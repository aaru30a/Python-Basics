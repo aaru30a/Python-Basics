{
  "cells": [
    {
      "cell_type": "markdown",
      "source": [
        "**Python** **Basics**"
      ],
      "metadata": {
        "id": "29aRGa7c2Jpx"
      }
    },
    {
      "cell_type": "markdown",
      "source": [
        "1) What is Python, and why is it popular?"
      ],
      "metadata": {
        "id": "HREnkgH92gDf"
      }
    },
    {
      "cell_type": "markdown",
      "source": [
        ":-> Python is an interpreted programming language used for developing mobile applications, softwares, machine learning etc.\n",
        "Why is it popular---\n",
        "\n",
        "*   **Versatile**\n",
        "    It is versatile is nature is it is used in many fields including data science, automation, frontend, backend etc.\n",
        "*   **Simplicity**\n",
        "    it is easy to learn and very similar to english language\n",
        "*   **Vast libraries**\n",
        "    It has vast number of libraries ( more libraries than any other programming language )\n",
        "*   **Active community**\n",
        "    Python has a very active community. Even we can build our own libraries for repeated codes that makes work easier.\n",
        "*   **Data industries**\n",
        "    Wildly used in data industries.\n",
        "\n",
        "\n",
        "\n",
        "\n",
        "\n"
      ],
      "metadata": {
        "id": "rGqkmwqV2orq"
      }
    },
    {
      "cell_type": "markdown",
      "source": [
        "\n",
        "\n",
        "---\n",
        "\n"
      ],
      "metadata": {
        "id": "_NOG5mvz5t3J"
      }
    },
    {
      "cell_type": "markdown",
      "source": [
        "2) What is an interpreter in Python?"
      ],
      "metadata": {
        "id": "ntbF6PT65yQR"
      }
    },
    {
      "cell_type": "markdown",
      "source": [
        ":-> Interpreter in Python helps in execution of code line by line that helps in analyzing mistakes at an early stage. It helps in mainting the flow of program."
      ],
      "metadata": {
        "id": "KlwOhJ4e57st"
      }
    },
    {
      "cell_type": "markdown",
      "source": [
        "\n",
        "\n",
        "---\n",
        "\n"
      ],
      "metadata": {
        "id": "fUduTspN7FGq"
      }
    },
    {
      "cell_type": "markdown",
      "source": [
        "3) What are pre-defined keywords in Python?"
      ],
      "metadata": {
        "id": "pudP5yU46vlX"
      }
    },
    {
      "cell_type": "markdown",
      "source": [
        ":-> These are the keywords that are already defines by Python. Eg.- break, continue, if etc"
      ],
      "metadata": {
        "id": "xy2YaYrV7HiY"
      }
    },
    {
      "cell_type": "markdown",
      "source": [
        "\n",
        "\n",
        "---\n",
        "\n"
      ],
      "metadata": {
        "id": "fVlCDv_h8GAu"
      }
    },
    {
      "cell_type": "markdown",
      "source": [
        "4) Can keywords be used as variable names?"
      ],
      "metadata": {
        "id": "0fuKgwmH8MBl"
      }
    },
    {
      "cell_type": "markdown",
      "source": [
        ":-> No keywords should not be used as variable names as they will lead to unnecessary errors and disrupt the entire code."
      ],
      "metadata": {
        "id": "7HwSkxr-DsJG"
      }
    },
    {
      "cell_type": "markdown",
      "source": [
        "\n",
        "\n",
        "---\n",
        "\n"
      ],
      "metadata": {
        "id": "As7nQHzZGfbq"
      }
    },
    {
      "cell_type": "markdown",
      "source": [
        "5) What is mutability in Python?"
      ],
      "metadata": {
        "id": "yXCwnxkA8Iqi"
      }
    },
    {
      "cell_type": "markdown",
      "source": [
        ":-> Mutability in Python refers to property of a variable of a particular datatype to allow making changes in its value after initializing. Example of mutable datatypes- list"
      ],
      "metadata": {
        "id": "ruV8P1EjG_j9"
      }
    },
    {
      "cell_type": "markdown",
      "source": [
        "\n",
        "\n",
        "---\n",
        "\n"
      ],
      "metadata": {
        "id": "h-cEih74Psnp"
      }
    },
    {
      "cell_type": "markdown",
      "source": [
        "6) Why are lists mutable, but tuples are immutable?"
      ],
      "metadata": {
        "id": "aOzQe50dJbtT"
      }
    },
    {
      "cell_type": "markdown",
      "source": [
        ":-> Lists are mutable as we can make changes in its value after it is defined."
      ],
      "metadata": {
        "id": "7-4UjHJgJkJN"
      }
    },
    {
      "cell_type": "markdown",
      "source": [
        "Example- list_example = [1, 2, \"naman\", 0.3]"
      ],
      "metadata": {
        "id": "bwhsHnDbKSD2"
      }
    },
    {
      "cell_type": "markdown",
      "source": [
        "        list_example[2]=\"chaman\"\n",
        "        print(list_example)\n",
        "\n",
        "        output= [1, 2, \"chaman\", 0.3]"
      ],
      "metadata": {
        "id": "iFA_i4O9KmNq"
      }
    },
    {
      "cell_type": "markdown",
      "source": [
        "  whereas tuples are immutable as no changes will be allowed to be made in its value afte it is defined.\n"
      ],
      "metadata": {
        "id": "pJNbZEYQLLin"
      }
    },
    {
      "cell_type": "code",
      "source": [
        "Example- tup = (2, 3, \"Aaru\")\n",
        "          tup[2]=\"Aru\"\n",
        "          print(tup)\n",
        "          #This will give an error as because tuple is immutable"
      ],
      "metadata": {
        "id": "LEwSsrSuPP94",
        "outputId": "c3d11e01-4700-4d46-acaa-608fb4993b80",
        "colab": {
          "base_uri": "https://localhost:8080/",
          "height": 106
        }
      },
      "execution_count": null,
      "outputs": [
        {
          "output_type": "error",
          "ename": "SyntaxError",
          "evalue": "cannot assign to expression here. Maybe you meant '==' instead of '='? (<ipython-input-2-2b6ad35a0c9b>, line 1)",
          "traceback": [
            "\u001b[0;36m  File \u001b[0;32m\"<ipython-input-2-2b6ad35a0c9b>\"\u001b[0;36m, line \u001b[0;32m1\u001b[0m\n\u001b[0;31m    Example- tup = (2, 3, \"Aaru\")\u001b[0m\n\u001b[0m    ^\u001b[0m\n\u001b[0;31mSyntaxError\u001b[0m\u001b[0;31m:\u001b[0m cannot assign to expression here. Maybe you meant '==' instead of '='?\n"
          ]
        }
      ]
    },
    {
      "cell_type": "markdown",
      "source": [
        "\n",
        "\n",
        "---\n",
        "\n"
      ],
      "metadata": {
        "id": "a9ohUTqYPq10"
      }
    },
    {
      "cell_type": "markdown",
      "source": [
        "7) What is the difference between “==” and “is” operators in Python?"
      ],
      "metadata": {
        "id": "T-fvWzshMSdX"
      }
    },
    {
      "cell_type": "markdown",
      "source": [
        ":-> \"==\" (equal to) is a comparison operator that is used to compare the equality between two variables such as....\n"
      ],
      "metadata": {
        "id": "Iz91F2A7Mb91"
      }
    },
    {
      "cell_type": "code",
      "source": [
        "a = 12\n",
        "b = 12\n",
        "a == b\n",
        "#output= True"
      ],
      "metadata": {
        "id": "blE1eiNcPARH",
        "outputId": "37c7a6e6-d217-4197-9724-a5620a52dc96",
        "colab": {
          "base_uri": "https://localhost:8080/"
        }
      },
      "execution_count": null,
      "outputs": [
        {
          "output_type": "execute_result",
          "data": {
            "text/plain": [
              "True"
            ]
          },
          "metadata": {},
          "execution_count": 4
        }
      ]
    },
    {
      "cell_type": "markdown",
      "source": [
        "whereas \"is\" is an identity operator that checks if two variables refer to the same memory block in memory space. example..."
      ],
      "metadata": {
        "id": "WNWzr90nPFs5"
      }
    },
    {
      "cell_type": "code",
      "source": [
        "a = 23\n",
        "b = a\n",
        "a is b\n",
        "#output = True"
      ],
      "metadata": {
        "id": "Iuq3rXxUQU53",
        "outputId": "df434a44-7919-4b82-da98-852fe680e794",
        "colab": {
          "base_uri": "https://localhost:8080/"
        }
      },
      "execution_count": null,
      "outputs": [
        {
          "output_type": "execute_result",
          "data": {
            "text/plain": [
              "True"
            ]
          },
          "metadata": {},
          "execution_count": 3
        }
      ]
    },
    {
      "cell_type": "markdown",
      "source": [
        "\n",
        "\n",
        "---\n",
        "\n"
      ],
      "metadata": {
        "id": "N2xwijSVQ2jg"
      }
    },
    {
      "cell_type": "markdown",
      "source": [
        "8) What are logical operators in Python?"
      ],
      "metadata": {
        "id": "twkgbMIIQ5w4"
      }
    },
    {
      "cell_type": "markdown",
      "source": [
        ":-> Logical Operators in Python are used to check multiple conditions and execute the final Truth or Falsehood of enite expression.\n",
        "\n",
        "* **Logical And**- gives Truth value only if both of the conditions are True.\n",
        "* **Logical Or**- gives Truth if atleast one condition is True.\n",
        "* **Logical Not**- gives True if the result is False and vice versa.\n",
        "\n",
        "\n",
        "\n",
        "\n",
        "\n"
      ],
      "metadata": {
        "id": "ISTklIsoRZEh"
      }
    },
    {
      "cell_type": "markdown",
      "source": [
        "\n",
        "\n",
        "---\n",
        "\n"
      ],
      "metadata": {
        "id": "HTjH47VuVoAr"
      }
    },
    {
      "cell_type": "markdown",
      "source": [
        "9) What is type casting in Python?"
      ],
      "metadata": {
        "id": "c7esWDJdTVR6"
      }
    },
    {
      "cell_type": "markdown",
      "source": [
        ":-> Type Casting in Python refers to changing datatype of a variable to another datatype. Example..."
      ],
      "metadata": {
        "id": "vD9V_iwHTv2d"
      }
    },
    {
      "cell_type": "code",
      "source": [
        "a = \"23\" #here it is a string\n",
        "print(int(a))"
      ],
      "metadata": {
        "id": "26ttY6RUT_B8",
        "outputId": "b8d23944-7172-4805-d9e5-7ebb1ac5f245",
        "colab": {
          "base_uri": "https://localhost:8080/"
        }
      },
      "execution_count": null,
      "outputs": [
        {
          "output_type": "stream",
          "name": "stdout",
          "text": [
            "23\n"
          ]
        }
      ]
    },
    {
      "cell_type": "markdown",
      "source": [
        "\n",
        "\n",
        "---\n",
        "\n"
      ],
      "metadata": {
        "id": "aESyUgNJVmrV"
      }
    },
    {
      "cell_type": "markdown",
      "source": [
        "10) What is the difference between implicit and explicit type casting?"
      ],
      "metadata": {
        "id": "9oBiYLRCUcUo"
      }
    },
    {
      "cell_type": "markdown",
      "source": [
        ":-> **Implicit** - It is the ability of Python to unerstand the type of data by its own.\n",
        "\n",
        "  **explicit** - It refers to manually converting the datatype of any variable"
      ],
      "metadata": {
        "id": "iIU6Gt0tUouF"
      }
    },
    {
      "cell_type": "code",
      "source": [
        "#implicit example\n",
        "a = 0.5    #float\n",
        "b = 6      #integer\n",
        "c = a + b\n",
        "type(c)    #it will automatically be float\n"
      ],
      "metadata": {
        "id": "aT2ZrXbMV73J",
        "outputId": "664774f3-e79d-4036-8870-e53f868af70a",
        "colab": {
          "base_uri": "https://localhost:8080/"
        }
      },
      "execution_count": null,
      "outputs": [
        {
          "output_type": "execute_result",
          "data": {
            "text/plain": [
              "float"
            ]
          },
          "metadata": {},
          "execution_count": 6
        }
      ]
    },
    {
      "cell_type": "markdown",
      "source": [
        "\n",
        "\n",
        "---\n",
        "\n"
      ],
      "metadata": {
        "id": "qtuVRFx3VkTM"
      }
    },
    {
      "cell_type": "markdown",
      "source": [
        "11) What is the purpose of conditional statements in Python?"
      ],
      "metadata": {
        "id": "it4rvB39VvPJ"
      }
    },
    {
      "cell_type": "markdown",
      "source": [
        ":-> It is used to execute a block of code based on whether certain conditions are true or false.\n",
        "\n",
        "Various conditional Statements=\n",
        "\n",
        "if\n",
        "\n",
        "if else\n",
        "\n",
        "elif\n",
        "\n",
        "nested if else"
      ],
      "metadata": {
        "id": "6scUZN3fWmk_"
      }
    },
    {
      "cell_type": "markdown",
      "source": [
        "\n",
        "\n",
        "---\n",
        "\n"
      ],
      "metadata": {
        "id": "NLJHIhPuY2rs"
      }
    },
    {
      "cell_type": "markdown",
      "source": [
        "12) How does the elif statement work?"
      ],
      "metadata": {
        "id": "UVSWRUYIY7jG"
      }
    },
    {
      "cell_type": "markdown",
      "source": [
        ":->elif is used to write multiple conditions when if statement is not satisfied. If in case there are more than one elif statement that is true, the first one will get executed."
      ],
      "metadata": {
        "id": "DGp65l10Ex1R"
      }
    },
    {
      "cell_type": "code",
      "source": [
        "a = 10000\n",
        "if(a<100):\n",
        "  print(\"smaller than 100\")\n",
        "elif(a>1000):\n",
        "  print(\"huge number\")\n",
        "elif(a>100):\n",
        "  print(\"more than 100\")\n",
        "else:\n",
        "  print(\" a is equal to 100\")"
      ],
      "metadata": {
        "colab": {
          "base_uri": "https://localhost:8080/"
        },
        "id": "qCKFT4vUFqii",
        "outputId": "7f65c8a4-31e7-4e01-ae7c-ad3999841f3a"
      },
      "execution_count": null,
      "outputs": [
        {
          "output_type": "stream",
          "name": "stdout",
          "text": [
            "huge number\n"
          ]
        }
      ]
    },
    {
      "cell_type": "markdown",
      "source": [
        "\n",
        "\n",
        "---\n",
        "\n"
      ],
      "metadata": {
        "id": "EKX4YSgFGRk2"
      }
    },
    {
      "cell_type": "markdown",
      "source": [
        "13) What is the difference between for and while loops?"
      ],
      "metadata": {
        "id": "uxhwUqbpGTE8"
      }
    },
    {
      "cell_type": "markdown",
      "source": [
        ":-> While loop is used to run the code unless the given condition gets satisfied. Generally used when number of iteration is not known.\n",
        "\n",
        "\n",
        "Whereas for loop is used to run a sequence of iteration. Generally used when number of iteration is known."
      ],
      "metadata": {
        "id": "757a81BlGeK7"
      }
    },
    {
      "cell_type": "markdown",
      "source": [
        "\n",
        "\n",
        "---\n",
        "\n"
      ],
      "metadata": {
        "id": "7FMWkIgiJb8a"
      }
    },
    {
      "cell_type": "markdown",
      "source": [
        "14) Describe a scenario where a while loop is more suitable than a for loop."
      ],
      "metadata": {
        "id": "-j_yeNRdJSr7"
      }
    },
    {
      "cell_type": "markdown",
      "source": [
        "while loop is more suitable than for loop when the number of iteration is not known. eg.."
      ],
      "metadata": {
        "id": "qMEkAON7JbRZ"
      }
    },
    {
      "cell_type": "code",
      "source": [
        "sum = 0\n",
        "while True:\n",
        "  number= int(input(\"enter number\"))\n",
        "  if number == 0:\n",
        "     break\n",
        "  sum += number\n",
        "  print(\"sum=\",sum)"
      ],
      "metadata": {
        "colab": {
          "base_uri": "https://localhost:8080/"
        },
        "id": "3O7_dljuLEra",
        "outputId": "2775a6d7-9332-4db2-b733-2ace89e87a4a"
      },
      "execution_count": null,
      "outputs": [
        {
          "name": "stdout",
          "output_type": "stream",
          "text": [
            "enter number4\n",
            "sum= 4\n",
            "enter number7\n",
            "sum= 11\n",
            "enter number0\n"
          ]
        }
      ]
    },
    {
      "cell_type": "markdown",
      "source": [
        "\n",
        "\n",
        "---\n",
        "\n"
      ],
      "metadata": {
        "id": "9rqlOkMWMyUr"
      }
    },
    {
      "cell_type": "markdown",
      "source": [
        "# Practical Questions"
      ],
      "metadata": {
        "id": "oapw9pJsODnr"
      }
    },
    {
      "cell_type": "code",
      "source": [
        "#1) print hello world\n",
        "print(\"Hello, World!\")"
      ],
      "metadata": {
        "colab": {
          "base_uri": "https://localhost:8080/"
        },
        "id": "xb6qm2TWOTHL",
        "outputId": "4d8bca5d-f1da-4b82-ee58-a832ee8570d8"
      },
      "execution_count": null,
      "outputs": [
        {
          "output_type": "stream",
          "name": "stdout",
          "text": [
            "Hello, World!\n"
          ]
        }
      ]
    },
    {
      "cell_type": "code",
      "source": [
        "#2)  display name and age\n",
        "name = 'Aarushi'\n",
        "age = 21\n",
        "print(\"my name is \",name)\n",
        "print(\"my age is \", age)"
      ],
      "metadata": {
        "colab": {
          "base_uri": "https://localhost:8080/"
        },
        "id": "oHbGEHJ1OdFw",
        "outputId": "68ccdd74-c507-4ce7-b9e8-3f5030038ceb"
      },
      "execution_count": null,
      "outputs": [
        {
          "output_type": "stream",
          "name": "stdout",
          "text": [
            "my name is  Aarushi\n",
            "my age is  21\n"
          ]
        }
      ]
    },
    {
      "cell_type": "code",
      "source": [
        "#3) printing predefined keyword library\n",
        "help('keywords')"
      ],
      "metadata": {
        "colab": {
          "base_uri": "https://localhost:8080/"
        },
        "id": "P1rhSR1DPFfE",
        "outputId": "4d72b7a2-d93c-4efa-e4b4-50cef6e755bd"
      },
      "execution_count": null,
      "outputs": [
        {
          "output_type": "stream",
          "name": "stdout",
          "text": [
            "\n",
            "Here is a list of the Python keywords.  Enter any keyword to get more help.\n",
            "\n",
            "False               class               from                or\n",
            "None                continue            global              pass\n",
            "True                def                 if                  raise\n",
            "and                 del                 import              return\n",
            "as                  elif                in                  try\n",
            "assert              else                is                  while\n",
            "async               except              lambda              with\n",
            "await               finally             nonlocal            yield\n",
            "break               for                 not                 \n",
            "\n"
          ]
        }
      ]
    },
    {
      "cell_type": "code",
      "source": [
        "#4) check if given word is python keyword\n",
        "import keyword\n",
        "a= input(\"enter a keyword \")\n",
        "if keyword.iskeyword(a):\n",
        "  print(\"valid keyword\")\n",
        "else:\n",
        "  print(\"invalid keyword\")"
      ],
      "metadata": {
        "colab": {
          "base_uri": "https://localhost:8080/"
        },
        "id": "Qq3BCs4ZPYPE",
        "outputId": "d8e22267-de47-408b-c207-784a877569cc"
      },
      "execution_count": null,
      "outputs": [
        {
          "output_type": "stream",
          "name": "stdout",
          "text": [
            "enter a keyword break\n",
            "valid keyword\n"
          ]
        }
      ]
    },
    {
      "cell_type": "code",
      "source": [
        "#5) list tuple\n",
        "list_example = [1, 2, \"naman\", 0.3]\n",
        "\n",
        "list_example[2]=\"chaman\"\n",
        "print(list_example)"
      ],
      "metadata": {
        "colab": {
          "base_uri": "https://localhost:8080/"
        },
        "id": "ejAHLnutSBRS",
        "outputId": "f657a6b7-1738-4d4a-e095-a8c06a574e93"
      },
      "execution_count": null,
      "outputs": [
        {
          "output_type": "stream",
          "name": "stdout",
          "text": [
            "[1, 2, 'chaman', 0.3]\n"
          ]
        }
      ]
    },
    {
      "cell_type": "code",
      "source": [
        "tup = (2, 3, \"Aaru\")\n",
        "          tup[2]=\"Aru\"\n",
        "          print(tup)"
      ],
      "metadata": {
        "colab": {
          "base_uri": "https://localhost:8080/",
          "height": 106
        },
        "id": "XyzweYT6UY3j",
        "outputId": "f5d9a4f6-d934-43b0-d12c-2170e12b90c6"
      },
      "execution_count": null,
      "outputs": [
        {
          "output_type": "error",
          "ename": "IndentationError",
          "evalue": "unexpected indent (<ipython-input-15-8865ec4a836b>, line 2)",
          "traceback": [
            "\u001b[0;36m  File \u001b[0;32m\"<ipython-input-15-8865ec4a836b>\"\u001b[0;36m, line \u001b[0;32m2\u001b[0m\n\u001b[0;31m    tup[2]=\"Aru\"\u001b[0m\n\u001b[0m    ^\u001b[0m\n\u001b[0;31mIndentationError\u001b[0m\u001b[0;31m:\u001b[0m unexpected indent\n"
          ]
        }
      ]
    },
    {
      "cell_type": "code",
      "source": [
        "#6) same"
      ],
      "metadata": {
        "id": "srAruSyNUpb-"
      },
      "execution_count": null,
      "outputs": []
    },
    {
      "cell_type": "code",
      "source": [
        "#7) arithmatic operator\n",
        "a = int(input())\n",
        "b = int(input())\n",
        "print(\"sum= \", a+b)\n",
        "print(\"division= \", a/b)\n",
        "print(\"multiply= \", a*b)\n",
        "print(\"subtract= \", a-b)\n",
        "print(\"modulud= \", a%b)"
      ],
      "metadata": {
        "colab": {
          "base_uri": "https://localhost:8080/"
        },
        "id": "wURigHSnUzhr",
        "outputId": "691e4490-c3f6-4955-e81e-ae6c86f6a319"
      },
      "execution_count": null,
      "outputs": [
        {
          "output_type": "stream",
          "name": "stdout",
          "text": [
            "10\n",
            "20\n",
            "sum=  30\n",
            "division=  0.5\n",
            "multiply=  200\n",
            "subtract=  -10\n",
            "modulud=  10\n"
          ]
        }
      ]
    },
    {
      "cell_type": "code",
      "source": [
        "#8) Logical operator\n",
        "a = 10\n",
        "b = 12\n",
        "if( a >10 and b>10):\n",
        "  print(\"both are greater than 10\") #this will not get executed as one of the condition is not true\n",
        "elif(a>5 and b>5):\n",
        "  print(\"both are greater than 5\") #here both conditions are true\n",
        "else:\n",
        "  print(\"\")"
      ],
      "metadata": {
        "colab": {
          "base_uri": "https://localhost:8080/"
        },
        "id": "thrLIQEpWiOj",
        "outputId": "81d672d6-5bcc-4fb1-ae87-dbd4fa7a81c5"
      },
      "execution_count": null,
      "outputs": [
        {
          "output_type": "stream",
          "name": "stdout",
          "text": [
            "both are greater than 5\n"
          ]
        }
      ]
    },
    {
      "cell_type": "code",
      "source": [
        "a = 20\n",
        "b = 30\n",
        "if(a>20 or b>20):    #atleast one of the condition is true\n",
        "  print(\"atleast one of them is greater than 20\")"
      ],
      "metadata": {
        "colab": {
          "base_uri": "https://localhost:8080/"
        },
        "id": "sF6FO29JYezc",
        "outputId": "6170ec1e-8512-474d-de2e-69a83bdb7a1a"
      },
      "execution_count": null,
      "outputs": [
        {
          "output_type": "stream",
          "name": "stdout",
          "text": [
            "atleast one of them is greater than 20\n"
          ]
        }
      ]
    },
    {
      "cell_type": "code",
      "source": [
        "a = 10\n",
        "if (not a >5):\n",
        "  print(\"true\")\n",
        "else:\n",
        "  print(\"false\")"
      ],
      "metadata": {
        "colab": {
          "base_uri": "https://localhost:8080/"
        },
        "id": "A60L-SvsZWyV",
        "outputId": "71045c4f-2d98-432c-eb75-c24433956e47"
      },
      "execution_count": null,
      "outputs": [
        {
          "output_type": "stream",
          "name": "stdout",
          "text": [
            "false\n"
          ]
        }
      ]
    },
    {
      "cell_type": "code",
      "source": [
        "#9)\n",
        "a = int(input(\"add an integer\"))\n",
        "b = float(input(\"add a float value\"))\n",
        "c = bool(input(\"add a boolean value\"))\n",
        "\n",
        "print(\"number= \", a)\n",
        "print(type(a))\n",
        "print(\"float value= \", b)\n",
        "print(type(b))\n",
        "print(\"boolean value= \", c)\n",
        "print(type(c))"
      ],
      "metadata": {
        "colab": {
          "base_uri": "https://localhost:8080/"
        },
        "id": "_2IS-N4dZ4vD",
        "outputId": "445bdfc5-8391-4c3e-cad2-af24789826e3"
      },
      "execution_count": null,
      "outputs": [
        {
          "output_type": "stream",
          "name": "stdout",
          "text": [
            "add an integer23\n",
            "add a float value2.3\n",
            "add a boolean value\n",
            "number=  23\n",
            "<class 'int'>\n",
            "float value=  2.3\n",
            "<class 'float'>\n",
            "boolean value=  False\n",
            "<class 'bool'>\n"
          ]
        }
      ]
    },
    {
      "cell_type": "code",
      "source": [
        "#10) type casting in list"
      ],
      "metadata": {
        "id": "jJ1JEwITbNvc"
      },
      "execution_count": null,
      "outputs": []
    },
    {
      "cell_type": "code",
      "source": [
        "#11) check if a number is positive negative or zero\n",
        "a = int(input(\"add a number\"))\n",
        "if(a>0):\n",
        "  print(\"positive number\")\n",
        "elif(a<0):\n",
        "  print(\"negative number\")\n",
        "else:\n",
        "  print(\"number is zero\")"
      ],
      "metadata": {
        "id": "axaL3jl_dqzk",
        "colab": {
          "base_uri": "https://localhost:8080/"
        },
        "outputId": "a9521a56-e16d-42b9-dc6e-8d2a9fa2e94a"
      },
      "execution_count": null,
      "outputs": [
        {
          "output_type": "stream",
          "name": "stdout",
          "text": [
            "add a number9\n",
            "positive number\n"
          ]
        }
      ]
    },
    {
      "cell_type": "code",
      "source": [
        "#12) printing numbers from 1 to 10\n",
        "for i in range(1,11):\n",
        "  print(i)"
      ],
      "metadata": {
        "colab": {
          "base_uri": "https://localhost:8080/"
        },
        "id": "ERTpq5OZdTxA",
        "outputId": "374702e0-103a-403a-be44-92194e0afacc"
      },
      "execution_count": null,
      "outputs": [
        {
          "output_type": "stream",
          "name": "stdout",
          "text": [
            "1\n",
            "2\n",
            "3\n",
            "4\n",
            "5\n",
            "6\n",
            "7\n",
            "8\n",
            "9\n",
            "10\n"
          ]
        }
      ]
    },
    {
      "cell_type": "code",
      "source": [
        "#13) sum of even numbers between 1 to 50\n",
        "sum = 0\n",
        "for i in range(1, 51):\n",
        "  if(i%2==0):\n",
        "    sum+=i\n",
        "print(\"sum= \", sum)"
      ],
      "metadata": {
        "colab": {
          "base_uri": "https://localhost:8080/"
        },
        "id": "wkwaSxoaeX7z",
        "outputId": "9d4b8438-6035-446f-8c0b-9853636f0b31"
      },
      "execution_count": null,
      "outputs": [
        {
          "output_type": "stream",
          "name": "stdout",
          "text": [
            "sum=  650\n"
          ]
        }
      ]
    },
    {
      "cell_type": "code",
      "source": [
        "#15) factorial of a number using while loop\n",
        "a = int(input())\n",
        "fac = 1\n",
        "while a > 0:\n",
        "  fac = fac*a\n",
        "  a-=1\n",
        "print(fac)"
      ],
      "metadata": {
        "colab": {
          "base_uri": "https://localhost:8080/"
        },
        "id": "P2kAYW-mgnGX",
        "outputId": "8eca1048-fa26-490c-beba-abc4a94fe39a"
      },
      "execution_count": null,
      "outputs": [
        {
          "output_type": "stream",
          "name": "stdout",
          "text": [
            "4\n",
            "24\n"
          ]
        }
      ]
    },
    {
      "cell_type": "code",
      "source": [
        "a = input()\n",
        "b = -len(a)\n",
        "first=a[b]\n",
        "rev = \"\"\n",
        "while b<0:\n",
        "  rev = a[b]+rev\n",
        "  b+=1\n",
        "print(rev)\n",
        "\n"
      ],
      "metadata": {
        "colab": {
          "base_uri": "https://localhost:8080/"
        },
        "id": "_gDkh8-WjesU",
        "outputId": "7a6d0692-5f32-4ab6-8d6d-1695b6cb1600"
      },
      "execution_count": null,
      "outputs": [
        {
          "output_type": "stream",
          "name": "stdout",
          "text": [
            "aaru\n",
            "uraa\n"
          ]
        }
      ]
    },
    {
      "cell_type": "code",
      "source": [],
      "metadata": {
        "id": "AHoOS415r1A7"
      },
      "execution_count": null,
      "outputs": []
    }
  ],
  "metadata": {
    "colab": {
      "provenance": []
    },
    "kernelspec": {
      "display_name": "Python 3",
      "name": "python3"
    }
  },
  "nbformat": 4,
  "nbformat_minor": 0
}